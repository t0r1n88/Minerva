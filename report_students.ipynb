{
 "cells": [
  {
   "cell_type": "code",
   "execution_count": 300,
   "id": "ab18c48e",
   "metadata": {},
   "outputs": [
    {
     "data": {
      "text/plain": [
       "'\\nСкрипт для получения списка учеников посетивших 2 и более профпроб, и списка участников по муниципалитетам школам,\\nколичества участников по муниципалитетам школам\\n'"
      ]
     },
     "execution_count": 300,
     "metadata": {},
     "output_type": "execute_result"
    }
   ],
   "source": [
    "\"\"\"\n",
    "Скрипт для получения списка учеников посетивших 2 и более профпроб, и списка участников по муниципалитетам школам,\n",
    "количества участников по муниципалитетам школам\n",
    "\"\"\""
   ]
  },
  {
   "cell_type": "code",
   "execution_count": 301,
   "id": "93912fe2",
   "metadata": {},
   "outputs": [],
   "source": [
    "import pandas as pd\n",
    "import openpyxl\n",
    "from openpyxl.utils.dataframe import dataframe_to_rows\n",
    "from openpyxl.utils import get_column_letter\n",
    "import time\n",
    "import re\n",
    "import warnings\n",
    "warnings.filterwarnings('ignore', category=UserWarning, module='openpyxl')\n",
    "warnings.simplefilter(action='ignore', category=DeprecationWarning)\n",
    "warnings.simplefilter(action='ignore', category=UserWarning)\n",
    "pd.options.mode.chained_assignment = None"
   ]
  },
  {
   "cell_type": "code",
   "execution_count": 302,
   "id": "1f74dba4",
   "metadata": {},
   "outputs": [],
   "source": [
    "path_to_end_folder = 'data'"
   ]
  },
  {
   "cell_type": "code",
   "execution_count": 303,
   "id": "c4997b55",
   "metadata": {},
   "outputs": [],
   "source": [
    "#df = pd.read_excel('data/students.xlsx',skiprows=3)\n",
    "df = pd.read_excel('data/students_all.xlsx',skiprows=3)\n",
    "t = time.localtime()\n",
    "current_time = time.strftime('%H_%M_%S',t)\n",
    "wb = openpyxl.Workbook() # файл для записавшихся на 2 и более профпробы\n"
   ]
  },
  {
   "cell_type": "code",
   "execution_count": 304,
   "id": "26b531da",
   "metadata": {},
   "outputs": [
    {
     "data": {
      "text/plain": [
       "<Worksheet \"Записавшиеся на 2 и более проб\">"
      ]
     },
     "execution_count": 304,
     "metadata": {},
     "output_type": "execute_result"
    }
   ],
   "source": [
    "\n",
    "wb.create_sheet('Записавшиеся на 2 и более проб',index=0)\n"
   ]
  },
  {
   "cell_type": "code",
   "execution_count": 305,
   "id": "8f3386d4",
   "metadata": {},
   "outputs": [
    {
     "data": {
      "text/plain": [
       "(17509, 45)"
      ]
     },
     "execution_count": 305,
     "metadata": {},
     "output_type": "execute_result"
    }
   ],
   "source": [
    "df.shape"
   ]
  },
  {
   "cell_type": "code",
   "execution_count": 306,
   "id": "5a84a07b",
   "metadata": {},
   "outputs": [],
   "source": [
    "# Заполняем пустые ячейки\n",
    "df['названия'] = df['названия'].fillna('Пусто')\n",
    "df['даты прохождения'] = df['даты прохождения'].fillna('Пусто')\n",
    "df['темы диагностик'] = df['темы диагностик'].fillna('Пусто')\n",
    "df['даты пройденных диагностик'] = df['даты пройденных диагностик'].fillna('Пусто')\n"
   ]
  },
  {
   "cell_type": "code",
   "execution_count": 307,
   "id": "ac933ec4",
   "metadata": {},
   "outputs": [],
   "source": [
    "# создаем копию датафрейма для подсчета диагностик\n",
    "diag_df = df.copy()"
   ]
  },
  {
   "cell_type": "code",
   "execution_count": 308,
   "id": "e967bb97",
   "metadata": {},
   "outputs": [],
   "source": [
    "# разворачиваем датафрейм \n",
    "flat_rows = [] # список для хранения строк \n",
    "for index,row in df.iterrows():\n",
    "    name_probs = row['названия'].split(',') # названия проб\n",
    "    date_probs = row['даты прохождения'].split(',') # даты прохождения\n",
    "    for idx,name in enumerate(name_probs):\n",
    "        new_row = row.copy() # копируем строку\n",
    "        new_row['названия'] = name\n",
    "        try:\n",
    "            new_row['даты прохождения'] = date_probs[idx]\n",
    "            flat_rows.append(new_row)\n",
    "        except IndexError:\n",
    "            new_row['даты прохождения'] = date_probs[idx-1]\n",
    "            flat_rows.append(new_row)\n",
    "# Создание нового датафрейма на основе новых строк\n",
    "flat_df = pd.DataFrame(flat_rows)"
   ]
  },
  {
   "cell_type": "code",
   "execution_count": 309,
   "id": "d393e660",
   "metadata": {},
   "outputs": [],
   "source": [
    "flat_df['даты прохождения'] = flat_df['даты прохождения'].astype(str)\n",
    "flat_df['даты прохождения'] = flat_df['даты прохождения'].apply(lambda x:x.strip())\n",
    "flat_df =flat_df[flat_df['даты прохождения'] != 'Пусто'] # удаляем тех кто не проходил \n",
    "flat_df['даты прохождения'] = pd.to_datetime(flat_df['даты прохождения'],dayfirst=True,errors='ignore') #приводим к типу дата"
   ]
  },
  {
   "cell_type": "code",
   "execution_count": 310,
   "id": "4e49f50d",
   "metadata": {},
   "outputs": [],
   "source": [
    "flat_df = flat_df[(flat_df['даты прохождения'] > '2023-09-01') & (flat_df['даты прохождения']< '2023-12-31')] # отбираем только те профпробы которые были этой осенью\n"
   ]
  },
  {
   "cell_type": "code",
   "execution_count": 311,
   "id": "177ba94e",
   "metadata": {},
   "outputs": [
    {
     "data": {
      "text/plain": [
       "(511, 45)"
      ]
     },
     "execution_count": 311,
     "metadata": {},
     "output_type": "execute_result"
    }
   ],
   "source": [
    "flat_df.shape"
   ]
  },
  {
   "cell_type": "code",
   "execution_count": 312,
   "id": "32a762a2",
   "metadata": {},
   "outputs": [],
   "source": [
    "dupl_df=flat_df[flat_df.duplicated(subset=['ФИО','Дата рождения'],keep=False)] # отбираем дубликаты\n",
    "lst_out = ['Муниципалитет','ФИО','Дата рождения','образовательная организация','класс (без буквы)','буква класса',\n",
    "           'названия','даты прохождения','ответственный педагог-навигатор']\n",
    "\n",
    "dupl_df = dupl_df[lst_out]\n",
    "\n",
    "dupl_df = dupl_df.sort_values(by=['ФИО','даты прохождения'],ascending=True)\n",
    "dupl_df['даты прохождения'] = dupl_df['даты прохождения'].dt.strftime('%d.%m.%Y')\n",
    "\n",
    "for row in dataframe_to_rows(dupl_df,index=False,header=True):\n",
    "    wb['Записавшиеся на 2 и более проб'].append(row)\n",
    "for column in wb['Записавшиеся на 2 и более проб'].columns:\n",
    "    max_length = 0\n",
    "    column_name = get_column_letter(column[0].column)\n",
    "    for cell in column:\n",
    "        try:\n",
    "            if len(str(cell.value)) > max_length:\n",
    "                max_length = len(cell.value)\n",
    "        except:\n",
    "            pass\n",
    "    adjusted_width = (max_length + 2)\n",
    "    wb['Записавшиеся на 2 и более проб'].column_dimensions[column_name].width = adjusted_width\n",
    "wb.save(f'{path_to_end_folder}\\Записавшиеся на 2 и более профпроб {current_time}.xlsx')\n",
    "\n"
   ]
  },
  {
   "cell_type": "code",
   "execution_count": null,
   "id": "6f1a8ac0",
   "metadata": {},
   "outputs": [],
   "source": []
  },
  {
   "cell_type": "code",
   "execution_count": null,
   "id": "40ac33f4",
   "metadata": {},
   "outputs": [],
   "source": []
  },
  {
   "cell_type": "code",
   "execution_count": null,
   "id": "9c33f711",
   "metadata": {},
   "outputs": [],
   "source": []
  },
  {
   "cell_type": "code",
   "execution_count": null,
   "id": "597c9ed6",
   "metadata": {},
   "outputs": [],
   "source": []
  },
  {
   "cell_type": "code",
   "execution_count": null,
   "id": "8be06866",
   "metadata": {},
   "outputs": [],
   "source": []
  },
  {
   "cell_type": "code",
   "execution_count": 313,
   "id": "8da0a58e",
   "metadata": {},
   "outputs": [],
   "source": [
    "# разворачиваем датафрейм \n",
    "diag_rows = [] # список для хранения строк \n",
    "for index,row in diag_df.iterrows():\n",
    "    name_diag = row['темы диагностик'].split(',') # названия проб\n",
    "    date_diag = row['даты пройденных диагностик'].split(',') # даты прохождения\n",
    "    for idx,name in enumerate(name_diag):\n",
    "        new_row = row.copy() # копируем строку\n",
    "        new_row['темы диагностик'] = name\n",
    "        try:            \n",
    "            new_row['даты пройденных диагностик'] = date_diag[idx]\n",
    "            diag_rows.append(new_row)\n",
    "        except IndexError:\n",
    "            new_row['даты пройденных диагностик'] = date_diag[-1]\n",
    "            diag_rows.append(new_row)\n",
    "# Создание нового датафрейма на основе новых строк\n",
    "diag_df = pd.DataFrame(diag_rows)\n",
    "\n"
   ]
  },
  {
   "cell_type": "code",
   "execution_count": 314,
   "id": "fc15c49e",
   "metadata": {},
   "outputs": [
    {
     "data": {
      "text/plain": [
       "(29677, 45)"
      ]
     },
     "execution_count": 314,
     "metadata": {},
     "output_type": "execute_result"
    }
   ],
   "source": [
    "diag_df.shape"
   ]
  },
  {
   "cell_type": "code",
   "execution_count": 315,
   "id": "839f3415",
   "metadata": {},
   "outputs": [],
   "source": [
    "diag_df['даты пройденных диагностик'] = diag_df['даты пройденных диагностик'].astype(str)\n",
    "diag_df['даты пройденных диагностик'] = diag_df['даты пройденных диагностик'].apply(lambda x:x.strip())\n",
    "diag_df =diag_df[diag_df['даты пройденных диагностик'] != 'Пусто'] # удаляем тех кто не проходил \n",
    "diag_df['даты пройденных диагностик'] = pd.to_datetime(diag_df['даты пройденных диагностик'],dayfirst=True,errors='ignore') #приводим к типу дата\n",
    "\n",
    "diag_df = diag_df[(diag_df['даты пройденных диагностик'] > '2023-09-01') & (diag_df['даты пройденных диагностик']< '2023-12-01')] # отбираем только те профпробы которые были этой осенью\n"
   ]
  },
  {
   "cell_type": "code",
   "execution_count": 316,
   "id": "b7374f66",
   "metadata": {},
   "outputs": [
    {
     "data": {
      "text/plain": [
       "(8280, 45)"
      ]
     },
     "execution_count": 316,
     "metadata": {},
     "output_type": "execute_result"
    }
   ],
   "source": [
    "diag_df.shape"
   ]
  },
  {
   "cell_type": "code",
   "execution_count": 317,
   "id": "401945bc",
   "metadata": {},
   "outputs": [
    {
     "data": {
      "text/plain": [
       "Index(['№пп', 'Федеральный округ', 'Регион', 'Муниципалитет', 'ФИО',\n",
       "       'Дата рождения', 'образовательная организация',\n",
       "       'Дата (год) регистрации на платформе', 'В архиве с какого года',\n",
       "       'Статус авторизации в системе', 'Дата последней активности',\n",
       "       'Статус верификации', 'класс (без буквы)', 'буква класса', 'группы',\n",
       "       'дата рождения/ возраст', 'пол', 'почта, телефон', 'наличие ОВЗ',\n",
       "       'нозология', 'скан согласия родителей на обработку перс.данных',\n",
       "       'количество пройденных диагностик', 'темы диагностик',\n",
       "       'даты пройденных диагностик', 'дата получения рекомендации',\n",
       "       'рекомендуемые среды', 'кол-во посещенных профпроб в текущем году',\n",
       "       'названия', 'даты прохождения',\n",
       "       'кол-во посещенных вирт. профпроб в текущем году', 'названия.1',\n",
       "       'даты прохождения.1',\n",
       "       'кол-во посещенных партнерск. профпроб в текущем году', 'названия.2',\n",
       "       'даты прохождения.2', 'кол-во посещенных уроков в текущем году',\n",
       "       'названия уроков', 'даты уроков',\n",
       "       'даты посещений выставки в текущем году',\n",
       "       'даты посещений виртуальной выставки',\n",
       "       'даты посещений фестиваля профессий', 'даты посещений экскурсии',\n",
       "       'даты посещений мастер-класса', 'даты посещений других мероприятий',\n",
       "       'ответственный педагог-навигатор'],\n",
       "      dtype='object')"
      ]
     },
     "execution_count": 317,
     "metadata": {},
     "output_type": "execute_result"
    }
   ],
   "source": [
    "diag_df.columns"
   ]
  },
  {
   "cell_type": "code",
   "execution_count": 318,
   "id": "f53dbf90",
   "metadata": {},
   "outputs": [],
   "source": [
    "drop_dupl_diag_df = diag_df.drop_duplicates(subset=['ФИО','Дата рождения','образовательная организация'])"
   ]
  },
  {
   "cell_type": "code",
   "execution_count": 319,
   "id": "a77219a3",
   "metadata": {},
   "outputs": [
    {
     "data": {
      "text/plain": [
       "(3098, 45)"
      ]
     },
     "execution_count": 319,
     "metadata": {},
     "output_type": "execute_result"
    }
   ],
   "source": [
    "drop_dupl_diag_df.shape"
   ]
  },
  {
   "cell_type": "code",
   "execution_count": 320,
   "id": "40d1728b",
   "metadata": {},
   "outputs": [],
   "source": [
    "#делаем сводную таблицу\n",
    "svod_diag_df = pd.pivot_table(drop_dupl_diag_df,\n",
    "                             index=['Муниципалитет','образовательная организация'],\n",
    "                             values='ФИО',\n",
    "                             aggfunc='count',\n",
    "                             margins=True)"
   ]
  },
  {
   "cell_type": "code",
   "execution_count": 321,
   "id": "b58eb8d4",
   "metadata": {},
   "outputs": [],
   "source": [
    "svod_diag_df= svod_diag_df.reset_index() # вытаскиваеем индекс\n",
    "svod_diag_df.rename(columns={'ФИО':'Количество прошедших хотя бы 1 диагностику'},inplace=True)\n",
    "svod_diag_df.sort_values(by=['Муниципалитет','Количество прошедших хотя бы 1 диагностику',],\n",
    "                        ascending=False,inplace=True)"
   ]
  },
  {
   "cell_type": "code",
   "execution_count": 322,
   "id": "f35c900b",
   "metadata": {},
   "outputs": [
    {
     "data": {
      "text/html": [
       "<div>\n",
       "<style scoped>\n",
       "    .dataframe tbody tr th:only-of-type {\n",
       "        vertical-align: middle;\n",
       "    }\n",
       "\n",
       "    .dataframe tbody tr th {\n",
       "        vertical-align: top;\n",
       "    }\n",
       "\n",
       "    .dataframe thead th {\n",
       "        text-align: right;\n",
       "    }\n",
       "</style>\n",
       "<table border=\"1\" class=\"dataframe\">\n",
       "  <thead>\n",
       "    <tr style=\"text-align: right;\">\n",
       "      <th></th>\n",
       "      <th>Муниципалитет</th>\n",
       "      <th>образовательная организация</th>\n",
       "      <th>Количество прошедших хотя бы 1 диагностику</th>\n",
       "    </tr>\n",
       "  </thead>\n",
       "  <tbody>\n",
       "    <tr>\n",
       "      <th>109</th>\n",
       "      <td>город Улан-Удэ</td>\n",
       "      <td>МАОУ «СОШ №54 г. Улан-Удэ»</td>\n",
       "      <td>115</td>\n",
       "    </tr>\n",
       "    <tr>\n",
       "      <th>89</th>\n",
       "      <td>город Улан-Удэ</td>\n",
       "      <td>МАОУ \"СОШ № 49 г. Улан-Удэ\"</td>\n",
       "      <td>83</td>\n",
       "    </tr>\n",
       "    <tr>\n",
       "      <th>107</th>\n",
       "      <td>город Улан-Удэ</td>\n",
       "      <td>МАОУ «СОШ №4 г. Улан-Удэ»</td>\n",
       "      <td>79</td>\n",
       "    </tr>\n",
       "    <tr>\n",
       "      <th>110</th>\n",
       "      <td>город Улан-Удэ</td>\n",
       "      <td>МАОУ «СОШ №65 г. Улан-Удэ им.Г.С. Асеева»</td>\n",
       "      <td>65</td>\n",
       "    </tr>\n",
       "    <tr>\n",
       "      <th>85</th>\n",
       "      <td>город Улан-Удэ</td>\n",
       "      <td>МАОУ \"СОШ № 25\"</td>\n",
       "      <td>52</td>\n",
       "    </tr>\n",
       "  </tbody>\n",
       "</table>\n",
       "</div>"
      ],
      "text/plain": [
       "      Муниципалитет                образовательная организация  \\\n",
       "109  город Улан-Удэ                 МАОУ «СОШ №54 г. Улан-Удэ»   \n",
       "89   город Улан-Удэ                МАОУ \"СОШ № 49 г. Улан-Удэ\"   \n",
       "107  город Улан-Удэ                  МАОУ «СОШ №4 г. Улан-Удэ»   \n",
       "110  город Улан-Удэ  МАОУ «СОШ №65 г. Улан-Удэ им.Г.С. Асеева»   \n",
       "85   город Улан-Удэ                            МАОУ \"СОШ № 25\"   \n",
       "\n",
       "     Количество прошедших хотя бы 1 диагностику  \n",
       "109                                         115  \n",
       "89                                           83  \n",
       "107                                          79  \n",
       "110                                          65  \n",
       "85                                           52  "
      ]
     },
     "execution_count": 322,
     "metadata": {},
     "output_type": "execute_result"
    }
   ],
   "source": [
    "svod_diag_df.head()"
   ]
  },
  {
   "cell_type": "code",
   "execution_count": 323,
   "id": "cc59db40",
   "metadata": {},
   "outputs": [],
   "source": [
    "lst_sheet = svod_diag_df['Муниципалитет'].unique() # список значений\n"
   ]
  },
  {
   "cell_type": "code",
   "execution_count": 324,
   "id": "ae65cd55",
   "metadata": {},
   "outputs": [],
   "source": [
    "wb_diag = openpyxl.Workbook() # создаем файл\n",
    "wb_diag.create_sheet(title='Общий свод',index=0)\n",
    "for row in dataframe_to_rows(svod_diag_df,index=False,header=True):\n",
    "    wb_diag['Общий свод'].append(row)\n",
    "\n",
    "# Устанавливаем автоширину для каждой колонки\n",
    "for column in wb_diag['Общий свод'].columns:\n",
    "    max_length = 0\n",
    "    column_name = get_column_letter(column[0].column)\n",
    "    for cell in column:\n",
    "        try:\n",
    "            if len(str(cell.value)) > max_length:\n",
    "                max_length = len(cell.value)\n",
    "        except:\n",
    "            pass\n",
    "    adjusted_width = (max_length + 2)\n",
    "    wb_diag['Общий свод'].column_dimensions[column_name].width = adjusted_width\n",
    "\n",
    "\n",
    "used_name_sheet = set() # множество для хранения значений которые уже были использованы\n",
    "name_column = 'Муниципалитет'\n",
    "for idx,value in enumerate(lst_sheet,1):\n",
    "    temp_df = svod_diag_df[svod_diag_df[name_column] == value] # отфильтровываем по значению\n",
    "    short_value = value[:20] # получаем обрезанное значение\n",
    "    short_value = re.sub(r'[\\[\\]\\'+()<> :\"?*|\\\\/]', '_', short_value)\n",
    "\n",
    "    if short_value in used_name_sheet:\n",
    "        short_value = f'{short_value}_{idx}' # добавляем окончание\n",
    "    wb_diag.create_sheet(short_value,index=idx) # создаем лист\n",
    "    used_name_sheet.add(short_value)\n",
    "    # создаем строку Сумма\n",
    "    temp_df.loc['Сумма'] = temp_df['Количество прошедших хотя бы 1 диагностику'].sum()\n",
    "    temp_df.loc[temp_df.index[-1],'Муниципалитет'] = None\n",
    "    temp_df.loc[temp_df.index[-1],'образовательная организация'] = None\n",
    "    for row in dataframe_to_rows(temp_df,index=False,header=True):\n",
    "        wb_diag[short_value].append(row)\n",
    "\n",
    "    # Устанавливаем автоширину для каждой колонки\n",
    "    for column in wb_diag[short_value].columns:\n",
    "        max_length = 0\n",
    "        column_name = get_column_letter(column[0].column)\n",
    "        for cell in column:\n",
    "            try:\n",
    "                if len(str(cell.value)) > max_length:\n",
    "                    max_length = len(cell.value)\n",
    "            except:\n",
    "                pass\n",
    "        adjusted_width = (max_length + 2)\n",
    "        wb_diag[short_value].column_dimensions[column_name].width = adjusted_width\n",
    "\n",
    "wb_diag.create_sheet()\n",
    "        \n",
    "        \n",
    "if 'All' and 'Sheet' in wb_diag.sheetnames: # удаляем лишние листы    \n",
    "    del wb_diag['All']\n",
    "    del wb_diag['Sheet']\n",
    "\n",
    "wb_diag.save(f'{path_to_end_folder}\\Свод по диагностике {current_time}.xlsx')\n",
    "\n"
   ]
  },
  {
   "cell_type": "code",
   "execution_count": null,
   "id": "8567f205",
   "metadata": {},
   "outputs": [],
   "source": []
  },
  {
   "cell_type": "code",
   "execution_count": null,
   "id": "547ff27b",
   "metadata": {},
   "outputs": [],
   "source": []
  },
  {
   "cell_type": "code",
   "execution_count": null,
   "id": "dc12f4b7",
   "metadata": {},
   "outputs": [],
   "source": []
  },
  {
   "cell_type": "code",
   "execution_count": null,
   "id": "7547fa62",
   "metadata": {},
   "outputs": [],
   "source": []
  },
  {
   "cell_type": "code",
   "execution_count": null,
   "id": "ee23100c",
   "metadata": {},
   "outputs": [],
   "source": []
  },
  {
   "cell_type": "code",
   "execution_count": null,
   "id": "3b8b19e7",
   "metadata": {},
   "outputs": [],
   "source": []
  },
  {
   "cell_type": "code",
   "execution_count": 325,
   "id": "479b3077",
   "metadata": {},
   "outputs": [
    {
     "name": "stdout",
     "output_type": "stream",
     "text": [
      "Lindy Booth\n"
     ]
    }
   ],
   "source": [
    "\n",
    "print('Lindy Booth')"
   ]
  },
  {
   "cell_type": "code",
   "execution_count": null,
   "id": "2de62368",
   "metadata": {},
   "outputs": [],
   "source": []
  },
  {
   "cell_type": "code",
   "execution_count": null,
   "id": "3ce78000",
   "metadata": {},
   "outputs": [],
   "source": []
  },
  {
   "cell_type": "code",
   "execution_count": null,
   "id": "80aee423",
   "metadata": {},
   "outputs": [],
   "source": []
  },
  {
   "cell_type": "code",
   "execution_count": null,
   "id": "ff6859e2",
   "metadata": {},
   "outputs": [],
   "source": []
  },
  {
   "cell_type": "code",
   "execution_count": null,
   "id": "f7b4c9d5",
   "metadata": {},
   "outputs": [],
   "source": []
  }
 ],
 "metadata": {
  "kernelspec": {
   "display_name": "Python 3 (ipykernel)",
   "language": "python",
   "name": "python3"
  },
  "language_info": {
   "codemirror_mode": {
    "name": "ipython",
    "version": 3
   },
   "file_extension": ".py",
   "mimetype": "text/x-python",
   "name": "python",
   "nbconvert_exporter": "python",
   "pygments_lexer": "ipython3",
   "version": "3.9.13"
  }
 },
 "nbformat": 4,
 "nbformat_minor": 5
}
